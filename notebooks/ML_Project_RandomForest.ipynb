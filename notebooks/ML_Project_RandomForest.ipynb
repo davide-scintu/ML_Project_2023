{
  "cells": [
    {
      "cell_type": "code",
      "source": [
        "import numpy as np\n",
        "import pandas as pd\n",
        "from sklearn.model_selection import train_test_split\n",
        "from sklearn.feature_extraction.text import CountVectorizer\n",
        "from sklearn.preprocessing import LabelEncoder\n",
        "from sklearn.ensemble import RandomForestClassifier\n",
        "from sklearn.metrics import accuracy_score\n",
        "from tqdm import tqdm\n",
        "\n",
        "\n",
        "def load_and_prepare_data(file_path, sample_size):\n",
        "    df = pd.read_csv(file_path, error_bad_lines=False)\n",
        "    df = df.dropna()\n",
        "\n",
        "    X = df[\"password\"]\n",
        "    y = df[\"strength\"]\n",
        "\n",
        "    label_encoder = LabelEncoder()\n",
        "    y = label_encoder.fit_transform(y)\n",
        "\n",
        "    X_train, X_test, y_train, y_test = train_test_split(X, y, test_size=0.2, random_state=42)\n",
        "\n",
        "\n",
        "    indices = np.random.choice(len(X_train), size=sample_size, replace=False)\n",
        "    X_train = X_train.iloc[indices]\n",
        "    y_train = y_train[indices]\n",
        "\n",
        "    return X_train, X_test, y_train, y_test, label_encoder\n",
        "\n",
        "\n",
        "data_file = 'drive/MyDrive/ML_PROJECT_DATASET/data.csv'\n",
        "desired_sample_size = 100000\n",
        "\n",
        "\n",
        "X_train, X_test, y_train, y_test, label_encoder = load_and_prepare_data(data_file, desired_sample_size)"
      ],
      "metadata": {
        "id": "nw7ssB4jP9uy"
      },
      "execution_count": null,
      "outputs": []
    },
    {
      "cell_type": "code",
      "source": [
        "# Vectorize the passwords\n",
        "vectorizer = CountVectorizer(analyzer=\"char\")\n",
        "X_train_vec = vectorizer.fit_transform(X_train)\n",
        "X_test_vec = vectorizer.transform(X_test)\n",
        "\n",
        "model = RandomForestClassifier()\n",
        "# n_estimators: default=100\n",
        "# max_depth: default=None\n",
        "# min_samples_split: default=2\n",
        "# random_state: default=None\n",
        "\n",
        "with tqdm(total=X_train_vec.shape[0], desc=\"Training\", unit=\"samples\") as pbar:\n",
        "    model.fit(X_train_vec, y_train)\n",
        "    pbar.update(X_train_vec.shape[0])\n",
        "\n",
        "y_pred = model.predict(X_test_vec)\n",
        "\n",
        "y_pred_decoded = label_encoder.inverse_transform(y_pred)\n",
        "\n",
        "accuracy = accuracy_score(y_test, y_pred)\n",
        "print(\"Accuracy:\", accuracy)"
      ],
      "metadata": {
        "colab": {
          "base_uri": "https://localhost:8080/"
        },
        "id": "exloDw0jRiGJ",
        "outputId": "b8992482-21f1-4160-d6a4-b6b41126729f"
      },
      "execution_count": null,
      "outputs": [
        {
          "output_type": "stream",
          "name": "stderr",
          "text": [
            "Training: 100%|██████████| 100000/100000 [03:17<00:00, 505.09samples/s]\n"
          ]
        },
        {
          "output_type": "stream",
          "name": "stdout",
          "text": [
            "Accuracy: 0.8623066125082134\n"
          ]
        }
      ]
    },
    {
      "cell_type": "code",
      "source": [
        "#test_password = \"To#rkw1zxXzfY7$4^*89bHs7Xb5!#A!4Ve8xGb4jW9arQdU61k\" # strong\n",
        "#test_password = \"LIserEptInguISEd123\" # medium\n",
        "test_password = \"hello\"  # weak\n",
        "\n",
        "# Vectorize the test password\n",
        "test_password_vec = vectorizer.transform([test_password])\n",
        "\n",
        "predicted_class = model.predict(test_password_vec)\n",
        "predicted_strength = label_encoder.inverse_transform(predicted_class)[0]\n",
        "\n",
        "print(f\"The strength of the test password '{test_password}' is classified as: {predicted_strength}\")"
      ],
      "metadata": {
        "id": "4jvAM2eqQsyx"
      },
      "execution_count": null,
      "outputs": []
    }
  ],
  "metadata": {
    "colab": {
      "provenance": []
    },
    "kernelspec": {
      "display_name": "Python 3",
      "name": "python3"
    },
    "language_info": {
      "name": "python"
    }
  },
  "nbformat": 4,
  "nbformat_minor": 0
}